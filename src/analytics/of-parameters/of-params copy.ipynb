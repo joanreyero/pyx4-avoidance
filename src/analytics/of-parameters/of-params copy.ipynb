{
 "cells": [
  {
   "cell_type": "code",
   "execution_count": 1,
   "metadata": {},
   "outputs": [],
   "source": [
    "import pandas as pd\n",
    "import numpy as np\n",
    "import matplotlib.pyplot as plt\n",
    "import sys\n",
    "sys.path.append('../')\n",
    "from analytics_labels import *\n",
    "from analytics_functions import clean_activations"
   ]
  },
  {
   "cell_type": "code",
   "execution_count": 5,
   "metadata": {},
   "outputs": [],
   "source": [
    "\n",
    "\n",
    "data = [\n",
    "    {\n",
    "        'files': [\n",
    "            'csv/2-new-activation-obstacle-0.csv',\n",
    "            'csv/2-new-activation-obstacle-1.csv',\n",
    "            'csv/2-new-activation-obstacle-2.csv'],\n",
    "        'name': 'Projection activation approaching a tree'\n",
    "    },\n",
    "    {\n",
    "        'files': [\n",
    "            'csv/2-new-activation-no-obstacle-0.csv',\n",
    "            'csv/2-new-activation-no-obstacle-1.csv',\n",
    "            'csv/2-new-activation-no-obstacle-2.csv'],\n",
    "        'name': 'New activation clear'\n",
    "    },\n",
    "    {\n",
    "        'files': [\n",
    "            'csv/2-old-activation-obstacle-0.csv',\n",
    "            'csv/2-old-activation-obstacle-1.csv',\n",
    "            'csv/2-old-activation-obstacle-2.csv'],\n",
    "        'name': 'Product activation approaching a tree'\n",
    "    },\n",
    "    {\n",
    "        'files': [\n",
    "            'csv/2-old-activation-no-obstacle-0.csv',\n",
    "            'csv/2-old-activation-no-obstacle-1.csv',\n",
    "            'csv/2-old-activation-no-obstacle-2.csv'],\n",
    "        'name': 'Product activation clear'\n",
    "    },\n",
    "]\n",
    "\n"
   ]
  },
  {
   "cell_type": "code",
   "execution_count": 6,
   "metadata": {},
   "outputs": [
    {
     "output_type": "stream",
     "name": "stdout",
     "text": [
      "0      [665.75598145, 562.66821289, 493.01687622, 400...\n1      [562.66821289, 493.01687622, 400.82385254, 269...\n2      [493.01687622, 400.82385254, 269.40591431, 271...\n3      [400.82385254, 269.40591431, 271.04943848, 279...\n4      [269.40591431, 271.04943848, 279.62347412, 644...\n                             ...                        \n101    [1236.96691895, 1215.12194824, 933.29681396, 9...\n102    [1215.12194824, 933.29681396, 997.6295166, 994...\n103    [933.29681396, 997.6295166, 994.23620605, 1213...\n104    [997.6295166, 994.23620605, 1213.82202148, 958...\n105    [994.23620605, 1213.82202148, 958.22503662, 15...\nName: activation, Length: 106, dtype: object\n"
     ]
    },
    {
     "output_type": "error",
     "ename": "NameError",
     "evalue": "name 'dist' is not defined",
     "traceback": [
      "\u001b[0;31m---------------------------------------------------------------------------\u001b[0m",
      "\u001b[0;31mNameError\u001b[0m                                 Traceback (most recent call last)",
      "\u001b[0;32m<ipython-input-6-151ddba8b41d>\u001b[0m in \u001b[0;36m<module>\u001b[0;34m\u001b[0m\n\u001b[1;32m     12\u001b[0m         \u001b[0mys\u001b[0m \u001b[0;34m=\u001b[0m \u001b[0mdf\u001b[0m\u001b[0;34m[\u001b[0m\u001b[0mACT\u001b[0m\u001b[0;34m]\u001b[0m\u001b[0;34m.\u001b[0m\u001b[0mapply\u001b[0m\u001b[0;34m(\u001b[0m\u001b[0mnp\u001b[0m\u001b[0;34m.\u001b[0m\u001b[0mmedian\u001b[0m\u001b[0;34m)\u001b[0m\u001b[0;34m\u001b[0m\u001b[0;34m\u001b[0m\u001b[0m\n\u001b[1;32m     13\u001b[0m \u001b[0;34m\u001b[0m\u001b[0m\n\u001b[0;32m---> 14\u001b[0;31m         \u001b[0max\u001b[0m\u001b[0;34m.\u001b[0m\u001b[0mplot\u001b[0m\u001b[0;34m(\u001b[0m\u001b[0mdist\u001b[0m\u001b[0;34m,\u001b[0m \u001b[0mys\u001b[0m\u001b[0;34m)\u001b[0m\u001b[0;34m\u001b[0m\u001b[0;34m\u001b[0m\u001b[0m\n\u001b[0m\u001b[1;32m     15\u001b[0m         \u001b[0max\u001b[0m\u001b[0;34m.\u001b[0m\u001b[0mset_title\u001b[0m\u001b[0;34m(\u001b[0m\u001b[0mdic\u001b[0m\u001b[0;34m[\u001b[0m\u001b[0;34m'name'\u001b[0m\u001b[0;34m]\u001b[0m\u001b[0;34m)\u001b[0m\u001b[0;34m\u001b[0m\u001b[0;34m\u001b[0m\u001b[0m\n\u001b[1;32m     16\u001b[0m \u001b[0;34m\u001b[0m\u001b[0m\n",
      "\u001b[0;31mNameError\u001b[0m: name 'dist' is not defined"
     ]
    }
   ],
   "source": [
    "\n",
    "indxs = {0: (0, 0), 1: (0, 1), 2: (1, 0), 3: (1, 1)}\n",
    "\n",
    "for i, dic in enumerate(data):\n",
    "    fig, axs = plt.subplots(2, 2, sharey=True, figsize=(10, 10))\n",
    "    \n",
    "    for f in dic['files']:\n",
    "        ax = axs[indxs[i]]\n",
    "        df = pd.read_csv(f)\n",
    "        df[ACT] = df[ACT].apply(clean_activations)\n",
    "        print(df[ACT])\n",
    "#        ys = df[ACT].apply(np.mean)\n",
    "        ys = df[ACT].apply(np.median)\n",
    "        \n",
    "        ax.plot(dist, ys)\n",
    "        ax.set_title(dic['name'])\n",
    "\n",
    "    # axs[0].set_xlabel('Distance to obstacle (m)')\n",
    "    # axs[1].set_xlabel('Distance to obstacle location (m)')\n",
    "    # axs[0].set_ylabel('Activation')\n",
    "    fig.suptitle('Activations for vel=' + str(dic['vel']) + ', win_size=' + str(dic['win_size']))\n",
    "#    fig.savefig('figures/0-of-activation-vel-' + str(dic['vel']) + '.pdf')\n",
    "\n"
   ]
  },
  {
   "cell_type": "code",
   "execution_count": null,
   "metadata": {},
   "outputs": [],
   "source": []
  }
 ],
 "metadata": {
  "kernelspec": {
   "display_name": "Python 3",
   "language": "python",
   "name": "python3"
  },
  "language_info": {
   "codemirror_mode": {
    "name": "ipython",
    "version": 3
   },
   "file_extension": ".py",
   "mimetype": "text/x-python",
   "name": "python",
   "nbconvert_exporter": "python",
   "pygments_lexer": "ipython3",
   "version": "3.6.9-final"
  }
 },
 "nbformat": 4,
 "nbformat_minor": 2
}