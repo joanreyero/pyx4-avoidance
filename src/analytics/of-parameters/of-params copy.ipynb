{
 "cells": [
  {
   "cell_type": "code",
   "execution_count": 1,
   "metadata": {},
   "outputs": [],
   "source": [
    "import pandas as pd\n",
    "import numpy as np\n",
    "import matplotlib.pyplot as plt\n",
    "import sys\n",
    "sys.path.append('../')\n",
    "from analytics_labels import *\n",
    "from analytics_functions import clean_activations"
   ]
  },
  {
   "cell_type": "code",
   "execution_count": 2,
   "metadata": {},
   "outputs": [],
   "source": [
    "\n",
    "\n",
    "data = [\n",
    "    {\n",
    "        'files': [\n",
    "            'csv/2-new-activation-obstacle-0.csv',\n",
    "            'csv/2-new-activation-obstacle-1.csv',\n",
    "            'csv/2-new-activation-obstacle-2.csv'],\n",
    "        'name': 'Projection activation approaching a tree'\n",
    "    },\n",
    "    {\n",
    "        'files': [\n",
    "            'csv/2-new-activation-no-obstacle-0.csv',\n",
    "            'csv/2-new-activation-no-obstacle-1.csv',\n",
    "            'csv/2-new-activation-no-obstacle-2.csv'],\n",
    "        'name': 'New activation clear'\n",
    "    },\n",
    "    {\n",
    "        'files': [\n",
    "            'csv/2-old-activation-obstacle-0.csv',\n",
    "            'csv/2-old-activation-obstacle-1.csv',\n",
    "            'csv/2-old-activation-obstacle-2.csv'],\n",
    "        'name': 'Product activation approaching a tree'\n",
    "    },\n",
    "    {\n",
    "        'files': [\n",
    "            'csv/2-old-activation-no-obstacle-0.csv',\n",
    "            'csv/2-old-activation-no-obstacle-1.csv',\n",
    "            'csv/2-old-activation-no-obstacle-2.csv'],\n",
    "        'name': 'Product activation clear'\n",
    "    },\n",
    "]\n",
    "\n"
   ]
  },
  {
   "cell_type": "code",
   "execution_count": 3,
   "metadata": {},
   "outputs": [
    {
     "name": "stdout",
     "output_type": "stream",
     "text": [
      "0      [375.66973877, 306.89370728, 283.43450928, 345...\n",
      "1      [306.89370728, 283.43450928, 345.32266235, 302...\n",
      "2      [283.43450928, 345.32266235, 302.33355713, 217...\n",
      "3      [345.32266235, 302.33355713, 217.25071716, 271...\n",
      "4      [302.33355713, 217.25071716, 271.09866333, 310...\n",
      "                             ...                        \n",
      "100    [593.86358643, 1440.72521973, 1242.00244141, 9...\n",
      "101    [1440.72521973, 1242.00244141, 900.75219727, 1...\n",
      "102    [1242.00244141, 900.75219727, 1140.51318359, 1...\n",
      "103    [900.75219727, 1140.51318359, 1705.77001953, 1...\n",
      "104    [1140.51318359, 1705.77001953, 1242.83837891, ...\n",
      "Name: activation, Length: 105, dtype: object\n"
     ]
    },
    {
     "ename": "NameError",
     "evalue": "name 'dist' is not defined",
     "output_type": "error",
     "traceback": [
      "\u001b[0;31m---------------------------------------------------------------------------\u001b[0m",
      "\u001b[0;31mNameError\u001b[0m                                 Traceback (most recent call last)",
      "\u001b[0;32m<ipython-input-3-151ddba8b41d>\u001b[0m in \u001b[0;36m<module>\u001b[0;34m\u001b[0m\n\u001b[1;32m     12\u001b[0m         \u001b[0mys\u001b[0m \u001b[0;34m=\u001b[0m \u001b[0mdf\u001b[0m\u001b[0;34m[\u001b[0m\u001b[0mACT\u001b[0m\u001b[0;34m]\u001b[0m\u001b[0;34m.\u001b[0m\u001b[0mapply\u001b[0m\u001b[0;34m(\u001b[0m\u001b[0mnp\u001b[0m\u001b[0;34m.\u001b[0m\u001b[0mmedian\u001b[0m\u001b[0;34m)\u001b[0m\u001b[0;34m\u001b[0m\u001b[0;34m\u001b[0m\u001b[0m\n\u001b[1;32m     13\u001b[0m \u001b[0;34m\u001b[0m\u001b[0m\n\u001b[0;32m---> 14\u001b[0;31m         \u001b[0max\u001b[0m\u001b[0;34m.\u001b[0m\u001b[0mplot\u001b[0m\u001b[0;34m(\u001b[0m\u001b[0mdist\u001b[0m\u001b[0;34m,\u001b[0m \u001b[0mys\u001b[0m\u001b[0;34m)\u001b[0m\u001b[0;34m\u001b[0m\u001b[0;34m\u001b[0m\u001b[0m\n\u001b[0m\u001b[1;32m     15\u001b[0m         \u001b[0max\u001b[0m\u001b[0;34m.\u001b[0m\u001b[0mset_title\u001b[0m\u001b[0;34m(\u001b[0m\u001b[0mdic\u001b[0m\u001b[0;34m[\u001b[0m\u001b[0;34m'name'\u001b[0m\u001b[0;34m]\u001b[0m\u001b[0;34m)\u001b[0m\u001b[0;34m\u001b[0m\u001b[0;34m\u001b[0m\u001b[0m\n\u001b[1;32m     16\u001b[0m \u001b[0;34m\u001b[0m\u001b[0m\n",
      "\u001b[0;31mNameError\u001b[0m: name 'dist' is not defined"
     ]
    },
    {
     "data": {
      "image/png": "[encoded data removed]",
      "text/plain": [
       "<Figure size 720x720 with 4 Axes>"
      ]
     },
     "metadata": {
      "needs_background": "light"
     },
     "output_type": "display_data"
    }
   ],
   "source": [
    "\n",
    "indxs = {0: (0, 0), 1: (0, 1), 2: (1, 0), 3: (1, 1)}\n",
    "\n",
    "for i, dic in enumerate(data):\n",
    "    fig, axs = plt.subplots(2, 2, sharey=True, figsize=(10, 10))\n",
    "    \n",
    "    for f in dic['files']:\n",
    "        ax = axs[indxs[i]]\n",
    "        df = pd.read_csv(f)\n",
    "        df[ACT] = df[ACT].apply(clean_activations)\n",
    "        print(df[ACT])\n",
    "#        ys = df[ACT].apply(np.mean)\n",
    "        ys = df[ACT].apply(np.median)\n",
    "        \n",
    "        ax.plot(dist, ys)\n",
    "        ax.set_title(dic['name'])\n",
    "\n",
    "    # axs[0].set_xlabel('Distance to obstacle (m)')\n",
    "    # axs[1].set_xlabel('Distance to obstacle location (m)')\n",
    "    # axs[0].set_ylabel('Activation')\n",
    "    fig.suptitle('Activations for vel=' + str(dic['vel']) + ', win_size=' + str(dic['win_size']))\n",
    "#    fig.savefig('figures/0-of-activation-vel-' + str(dic['vel']) + '.pdf')\n",
    "\n"
   ]
  },
  {
   "cell_type": "code",
   "execution_count": null,
   "metadata": {},
   "outputs": [],
   "source": []
  }
 ],
 "metadata": {
  "kernelspec": {
   "display_name": "Python 3",
   "language": "python",
   "name": "python3"
  },
  "language_info": {
   "codemirror_mode": {
    "name": "ipython",
    "version": 3
   },
   "file_extension": ".py",
   "mimetype": "text/x-python",
   "name": "python",
   "nbconvert_exporter": "python",
   "pygments_lexer": "ipython3",
   "version": "3.7.6"
  }
 },
 "nbformat": 4,
 "nbformat_minor": 2
}
